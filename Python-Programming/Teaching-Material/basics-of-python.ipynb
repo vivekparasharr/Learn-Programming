{
 "cells": [
  {
   "cell_type": "code",
   "execution_count": 6,
   "metadata": {
    "collapsed": true
   },
   "outputs": [],
   "source": [
    "# Any comments?\n",
    "# You can add comments to your Python scripts using the # tag\n",
    "# These comments are not run as Python code, so they will not influence your result\n",
    "# Comments are important to make sure that you and others can understand what your code is about"
   ]
  },
  {
   "cell_type": "code",
   "execution_count": 7,
   "metadata": {},
   "outputs": [],
   "source": [
    "# Python as a calculator\n",
    "# Python is perfectly suited to do basic calculations. Apart from addition, subtraction, multiplication and division, \n",
    "# there is also support for more advanced operations such as:"
   ]
  },
  {
   "cell_type": "code",
   "execution_count": 8,
   "metadata": {},
   "outputs": [
    {
     "data": {
      "text/plain": [
       "16"
      ]
     },
     "execution_count": 8,
     "metadata": {},
     "output_type": "execute_result"
    }
   ],
   "source": [
    "# Exponentiation: **\n",
    "# This operator raises the number to its left to the power of the number to its right\n",
    "4**2"
   ]
  },
  {
   "cell_type": "code",
   "execution_count": 9,
   "metadata": {},
   "outputs": [
    {
     "data": {
      "text/plain": [
       "4"
      ]
     },
     "execution_count": 9,
     "metadata": {},
     "output_type": "execute_result"
    }
   ],
   "source": [
    "# Modulo: %\n",
    "# This operator returns the remainder of the division of the number to the left by the number on its right\n",
    "18 % 7"
   ]
  },
  {
   "cell_type": "code",
   "execution_count": 10,
   "metadata": {},
   "outputs": [
    {
     "data": {
      "text/plain": [
       "194.87171000000012"
      ]
     },
     "execution_count": 10,
     "metadata": {},
     "output_type": "execute_result"
    }
   ],
   "source": [
    "# Suppose you have $100, which you can invest with a 10% return each year. \n",
    "# After one year, it's 100×1.1=110 dollars, and after two years it's 100×1.1×1.1=121. \n",
    "# Write the code to calculate how much money you end up with after 7 years.\n",
    "100*1.1**7"
   ]
  },
  {
   "cell_type": "code",
   "execution_count": 14,
   "metadata": {},
   "outputs": [
    {
     "name": "stdout",
     "output_type": "stream",
     "text": [
      "8\n"
     ]
    }
   ],
   "source": [
    "# Variable Assignment\n",
    "# A variable allows you to refer to a value with a name\n",
    "# To create a variable use =\n",
    "# You can now use the name of this variable, x, instead of the actual value, 5\n",
    "# Remember, = in Python means assignment, it doesn't test equality!\n",
    "x = 5\n",
    "y = x + 3  # Calculations with variables\n",
    "print (y)"
   ]
  },
  {
   "cell_type": "code",
   "execution_count": 15,
   "metadata": {},
   "outputs": [
    {
     "name": "stdout",
     "output_type": "stream",
     "text": [
      "194.87171000000012\n"
     ]
    }
   ],
   "source": [
    "# Calculations with variables\n",
    "# Create a variable savings\n",
    "savings = 100\n",
    "\n",
    "# Create a variable factor\n",
    "factor=1.10\n",
    "\n",
    "# Calculate result\n",
    "result=savings*(factor**7)\n",
    "\n",
    "# Print out result\n",
    "print (result)"
   ]
  },
  {
   "cell_type": "code",
   "execution_count": 17,
   "metadata": {},
   "outputs": [
    {
     "name": "stdout",
     "output_type": "stream",
     "text": [
      "100\n",
      "1.1\n",
      "compound interest\n",
      "True\n"
     ]
    }
   ],
   "source": [
    "# Variable types\n",
    "\n",
    "# int, or integer: a number without a fractional part. savings, with the value 100, is an example of an integer.\n",
    "savings=100\n",
    "print(savings)\n",
    "\n",
    "# float, or floating point: a number that has both an integer and fractional part, separated by a point. \n",
    "# factor, with the value 1.10, is an example of a float.\n",
    "factor=1.10\n",
    "print(factor)\n",
    "\n",
    "# str, or string: a type to represent text. You can use single or double quotes to build a string.\n",
    "desc=\"compound interest\"\n",
    "print(desc)\n",
    "\n",
    "# bool, or boolean: a type to represent logical values. Can only be True or False (the capitalization is important!)\n",
    "profitable=True\n",
    "print(profitable)"
   ]
  },
  {
   "cell_type": "code",
   "execution_count": 24,
   "metadata": {},
   "outputs": [
    {
     "name": "stdout",
     "output_type": "stream",
     "text": [
      "<class 'int'>\n"
     ]
    },
    {
     "data": {
      "text/plain": [
       "float"
      ]
     },
     "execution_count": 24,
     "metadata": {},
     "output_type": "execute_result"
    }
   ],
   "source": [
    "# To find out the type of a value or a variable that refers to that value, you can use the type() function\n",
    "print(type(savings))\n",
    "type(factor)\n",
    "# print(type(desc))\n",
    "# type(profitable)"
   ]
  },
  {
   "cell_type": "code",
   "execution_count": 25,
   "metadata": {
    "collapsed": true
   },
   "outputs": [],
   "source": [
    "# Different types behave differently in Python\n",
    "# When you sum two strings, for example, you'll get different behavior than when you sum two integers or two booleans."
   ]
  },
  {
   "cell_type": "code",
   "execution_count": 26,
   "metadata": {},
   "outputs": [
    {
     "ename": "TypeError",
     "evalue": "must be str, not int",
     "output_type": "error",
     "traceback": [
      "\u001b[1;31m---------------------------------------------------------------------------\u001b[0m",
      "\u001b[1;31mTypeError\u001b[0m                                 Traceback (most recent call last)",
      "\u001b[1;32m<ipython-input-26-e6dccd20efd4>\u001b[0m in \u001b[0;36m<module>\u001b[1;34m()\u001b[0m\n\u001b[0;32m      3\u001b[0m \u001b[0msavings\u001b[0m \u001b[1;33m=\u001b[0m \u001b[1;36m100\u001b[0m\u001b[1;33m\u001b[0m\u001b[0m\n\u001b[0;32m      4\u001b[0m \u001b[0mresult\u001b[0m \u001b[1;33m=\u001b[0m \u001b[1;36m100\u001b[0m \u001b[1;33m*\u001b[0m \u001b[1;36m1.10\u001b[0m \u001b[1;33m**\u001b[0m \u001b[1;36m7\u001b[0m\u001b[1;33m\u001b[0m\u001b[0m\n\u001b[1;32m----> 5\u001b[1;33m \u001b[0mprint\u001b[0m\u001b[1;33m(\u001b[0m\u001b[1;34m\"I started with $\"\u001b[0m \u001b[1;33m+\u001b[0m \u001b[0msavings\u001b[0m \u001b[1;33m+\u001b[0m \u001b[1;34m\" and now have $\"\u001b[0m \u001b[1;33m+\u001b[0m \u001b[0mresult\u001b[0m \u001b[1;33m+\u001b[0m \u001b[1;34m\". Awesome!\"\u001b[0m\u001b[1;33m)\u001b[0m\u001b[1;33m\u001b[0m\u001b[0m\n\u001b[0m",
      "\u001b[1;31mTypeError\u001b[0m: must be str, not int"
     ]
    }
   ],
   "source": [
    "# Type conversion\n",
    "# Using the + operator to paste together two strings can be very useful in building custom messages.\n",
    "savings = 100\n",
    "result = 100 * 1.10 ** 7\n",
    "print(\"I started with $\" + savings + \" and now have $\" + result + \". Awesome!\")"
   ]
  },
  {
   "cell_type": "code",
   "execution_count": 27,
   "metadata": {},
   "outputs": [
    {
     "name": "stdout",
     "output_type": "stream",
     "text": [
      "I started with $100 and now have $194.87171000000012. Awesome!\n"
     ]
    }
   ],
   "source": [
    "# This will not work, though, as you cannot simply sum strings and floats.\n",
    "# To fix the error, you'll need toexplicitly convert the types of your variables. \n",
    "# More specifically, you'll need str(), to convert a value into a string. str(savings),\n",
    "# for example, will convert the float savings to a string.\n",
    "# Similar functions such as int(), float() and bool() will help you convert Python values into any type.\n",
    "print(\"I started with $\" + str(savings) + \" and now have $\" + str(result) + \". Awesome!\")"
   ]
  },
  {
   "cell_type": "code",
   "execution_count": 33,
   "metadata": {},
   "outputs": [
    {
     "name": "stdout",
     "output_type": "stream",
     "text": [
      "I can add integers, like 5 to strings. ------ I said Hey Hey Hey! ------ 2 - 1 - 1 - 0\n"
     ]
    }
   ],
   "source": [
    "a = \"I can add integers, like \" + str(5) + \" to strings.\"\n",
    "b = \"I said \" + (\"Hey \" * 2) + \"Hey!\"\n",
    "c = True + True\n",
    "d = True + False\n",
    "e = False + True\n",
    "f = False + False\n",
    "print(a,\"------\",b,\"------\",c,\"-\",d,\"-\",e,\"-\",f)"
   ]
  },
  {
   "cell_type": "code",
   "execution_count": 47,
   "metadata": {},
   "outputs": [
    {
     "name": "stdout",
     "output_type": "stream",
     "text": [
      "[1.88, 1.78, 1.68, 1.58]\n",
      "['dad', 1.88, 'mom', 1.78, 'sis', '1.68', 'bro', 1.58]\n",
      "[['dad', 1.88], ['mom', 1.78], ['sis', '1.68'], ['bro', 1.58]]\n"
     ]
    },
    {
     "data": {
      "text/plain": [
       "list"
      ]
     },
     "execution_count": 47,
     "metadata": {},
     "output_type": "execute_result"
    }
   ],
   "source": [
    "# Lists\n",
    "# As opposed to int, bool etc., a list is a compound data type; you can group values together\n",
    "# many data points, example height of entire family\n",
    "# lists are built with square brackets\n",
    "# contain any data type\n",
    "# contain different data type\n",
    "# a list can contain a list\n",
    "fam0=[1.88, 1.78, 1.68, 1.58]\n",
    "fam1=[\"dad\",1.88,\"mom\",1.78,\"sis\",\"1.68\",\"bro\",1.58]\n",
    "fam2=[[\"dad\",1.88],[\"mom\",1.78],[\"sis\",\"1.68\"],[\"bro\",1.58]]\n",
    "print(fam0)\n",
    "print(fam1)\n",
    "print(fam2)\n",
    "type(fam2)"
   ]
  },
  {
   "cell_type": "code",
   "execution_count": 51,
   "metadata": {},
   "outputs": [
    {
     "name": "stdout",
     "output_type": "stream",
     "text": [
      "['dad', 1.88]\n",
      "['bro', 1.58]\n",
      "['sis', '1.68']\n"
     ]
    }
   ],
   "source": [
    "# Subsetting lists\n",
    "# accessing individual elements from the list\n",
    "# python uses index -> first element has index 0 and last element has index -1 (second last has -2)\n",
    "fam2=[[\"dad\",1.88],[\"mom\",1.78],[\"sis\",\"1.68\"],[\"bro\",1.58]]\n",
    "print(fam2[0])\n",
    "print(fam2[-1])\n",
    "print(fam2[-2])"
   ]
  },
  {
   "cell_type": "code",
   "execution_count": 55,
   "metadata": {},
   "outputs": [
    {
     "name": "stdout",
     "output_type": "stream",
     "text": [
      "[['mom', 1.78], ['sis', '1.68']]\n",
      "[['sis', '1.68'], ['bro', 1.58]]\n",
      "[['sis', '1.68']]\n",
      "[['sis', '1.68'], ['bro', 1.58]]\n",
      "1.78\n"
     ]
    }
   ],
   "source": [
    "# accessing multiple elements from the list\n",
    "# slicing - we specify a range using a colon\n",
    "# [start is inclusive and 0 by default if you leave blank : end is exclusive and -1 by default if you leave blank]\n",
    "fam2=[[\"dad\",1.88],[\"mom\",1.78],[\"sis\",\"1.68\"],[\"bro\",1.58]]\n",
    "print(fam2[1:3])\n",
    "print(fam2[2:4])\n",
    "print(fam2[2:-1])\n",
    "print(fam2[2:])\n",
    "print(fam2[1][1])"
   ]
  },
  {
   "cell_type": "code",
   "execution_count": 57,
   "metadata": {},
   "outputs": [
    {
     "name": "stdout",
     "output_type": "stream",
     "text": [
      "['dad', 1.88, 'mom', 1.78, 'sis', '1.68', 'bro', 1.58]\n",
      "['dad', 1.86, 'mom', 1.78, 'sis', '1.68', 'bro', 1.58]\n",
      "['daddy', 1.88, 'mom', 1.78, 'sis', '1.68', 'bro', 1.58]\n"
     ]
    }
   ],
   "source": [
    "# list manipulation - change, add, remove elements from lists\n",
    "\n",
    "# change\n",
    "fam1=[\"dad\",1.88,\"mom\",1.78,\"sis\",\"1.68\",\"bro\",1.58]\n",
    "print(fam1)\n",
    "fam1[1]=1.86\n",
    "print(fam1)\n",
    "fam1[0:2]=[\"daddy\",1.88]\n",
    "print(fam1)"
   ]
  },
  {
   "cell_type": "code",
   "execution_count": 59,
   "metadata": {},
   "outputs": [
    {
     "name": "stdout",
     "output_type": "stream",
     "text": [
      "['dad', 1.88, 'mom', 1.78, 'sis', '1.68', 'bro', 1.58]\n",
      "['dad', 1.88, 'mom', 1.78, 'sis', '1.68', 'bro', 1.58, 'lil bro', 88]\n"
     ]
    }
   ],
   "source": [
    "# adding\n",
    "fam1=[\"dad\",1.88,\"mom\",1.78,\"sis\",\"1.68\",\"bro\",1.58]\n",
    "fam11 = fam1 + [\"lil bro\",88]\n",
    "print(fam1)\n",
    "print(fam11)"
   ]
  },
  {
   "cell_type": "code",
   "execution_count": 60,
   "metadata": {},
   "outputs": [
    {
     "name": "stdout",
     "output_type": "stream",
     "text": [
      "['dad', 1.88, 'mom', 1.78, 'sis', '1.68', 'bro', 1.58, 'lil bro', 88]\n",
      "['dad', 1.88, 'mom', 1.78, 'sis', '1.68', 'bro', 1.58]\n"
     ]
    }
   ],
   "source": [
    "# deleting\n",
    "fam11=[\"dad\",1.88,\"mom\",1.78,\"sis\",\"1.68\",\"bro\",1.58,\"lil bro\",88]\n",
    "print(fam11)\n",
    "del(fam11[-2:])\n",
    "print(fam11)"
   ]
  },
  {
   "cell_type": "code",
   "execution_count": 69,
   "metadata": {},
   "outputs": [
    {
     "name": "stdout",
     "output_type": "stream",
     "text": [
      "before changes\n",
      "list x: [1, 2, 3]\n",
      "list y: [1, 2, 3]\n",
      "after changes\n",
      "list y: [1, 2, 4]\n",
      "list x: [1, 2, 4]\n"
     ]
    }
   ],
   "source": [
    "# list behind the scenes\n",
    "x = [1,2,3] # x is the parent list\n",
    "print(\"before changes\")\n",
    "print(\"list x:\", x)\n",
    "\n",
    "# this way the child list just references back to the elements of parent list\n",
    "# so if any change is made to an element of child list, the element changes its value even in the parent list\n",
    "y = x # y is the child list\n",
    "print(\"list y:\",y)\n",
    "\n",
    "# lets make changes to the child list\n",
    "y[-1]=4\n",
    "print(\"after changes\")\n",
    "print(\"list y:\",y)\n",
    "print(\"list x:\",x)"
   ]
  },
  {
   "cell_type": "code",
   "execution_count": 72,
   "metadata": {},
   "outputs": [
    {
     "name": "stdout",
     "output_type": "stream",
     "text": [
      "before changes\n",
      "list x: [1, 2, 3]\n",
      "list p: [1, 2, 3]\n",
      "list q: [1, 2, 3]\n",
      "list r: [1, 2, 3]\n",
      "after changes\n",
      "list x: [1, 2, 3]\n",
      "list p: [1, 2, 4]\n",
      "list q: [1, 2, 5]\n",
      "list r: [1, 2, 6]\n"
     ]
    }
   ],
   "source": [
    "x = [1,2,3] # x is the parent list\n",
    "print(\"before changes\")\n",
    "print(\"list x:\",x)\n",
    "\n",
    "# three ways of copying the list element into a child list,\n",
    "# rather than just creating references to the elements of the parent list\n",
    "\n",
    "p = list(x)  # 1\n",
    "print(\"list p:\",p)\n",
    "\n",
    "q = x[:]  # 2 \n",
    "print(\"list q:\",q)\n",
    "\n",
    "r = x + [1]\n",
    "del(r[-1])  # 3\n",
    "print(\"list r:\",r)\n",
    "\n",
    "# lets make changes to the child lists\n",
    "p[-1]=4\n",
    "q[-1]=5\n",
    "r[-1]=6\n",
    "\n",
    "# lets print the lists post changes\n",
    "print(\"after changes\")\n",
    "print(\"list x:\",x)\n",
    "print(\"list p:\",p)\n",
    "print(\"list q:\",q)\n",
    "print(\"list r:\",r)"
   ]
  },
  {
   "cell_type": "code",
   "execution_count": 1,
   "metadata": {},
   "outputs": [
    {
     "data": {
      "text/plain": [
       "4"
      ]
     },
     "execution_count": 1,
     "metadata": {},
     "output_type": "execute_result"
    }
   ],
   "source": [
    "# Functions - a function is a piece of reusable code aimed at solving a particular task\n",
    "# there can be built in functions (like type(), round(number[,ndigits - 0 by default]) etc.) \n",
    "# or user defined functions\n",
    "\n",
    "# some basic functions\n",
    "a=[2,4,7,9]\n",
    "len(a) # returns the length of a list"
   ]
  },
  {
   "cell_type": "code",
   "execution_count": 3,
   "metadata": {},
   "outputs": [
    {
     "name": "stdout",
     "output_type": "stream",
     "text": [
      "Help on built-in function round in module builtins:\n",
      "\n",
      "round(...)\n",
      "    round(number[, ndigits]) -> number\n",
      "    \n",
      "    Round a number to a given precision in decimal digits (default 0 digits).\n",
      "    This returns an int when called with one argument, otherwise the\n",
      "    same type as the number. ndigits may be negative.\n",
      "\n"
     ]
    }
   ],
   "source": [
    "# help function can be used to find more about a function\n",
    "help(round)"
   ]
  },
  {
   "cell_type": "code",
   "execution_count": 6,
   "metadata": {},
   "outputs": [
    {
     "name": "stdout",
     "output_type": "stream",
     "text": [
      "Help on built-in function sorted in module builtins:\n",
      "\n",
      "sorted(iterable, /, *, key=None, reverse=False)\n",
      "    Return a new list containing all items from the iterable in ascending order.\n",
      "    \n",
      "    A custom key function can be supplied to customize the sort order, and the\n",
      "    reverse flag can be set to request the result in descending order.\n",
      "\n",
      "[20.0, 18.0, 11.25, 10.75, 9.5]\n"
     ]
    }
   ],
   "source": [
    "help(sorted)\n",
    "\n",
    "a = [11.25, 18.0, 20.0, 10.75, 9.50]\n",
    "print(sorted(a, reverse=True))"
   ]
  },
  {
   "cell_type": "code",
   "execution_count": 20,
   "metadata": {},
   "outputs": [
    {
     "name": "stdout",
     "output_type": "stream",
     "text": [
      "[('john', 'A', 15), ('jane', 'B', 12), ('dave', 'B', 13)]\n",
      "[('dave', 'B', 13), ('jane', 'B', 12), ('john', 'A', 15)]\n",
      "[('jane', 'B', 12), ('dave', 'B', 13), ('john', 'A', 15)]\n",
      "[('john', 'A', 15), ('jane', 'B', 12), ('dave', 'B', 13)]\n",
      "john\n"
     ]
    },
    {
     "ename": "TypeError",
     "evalue": "'tuple' object does not support item assignment",
     "output_type": "error",
     "traceback": [
      "\u001b[0;31m---------------------------------------------------------------------------\u001b[0m",
      "\u001b[0;31mTypeError\u001b[0m                                 Traceback (most recent call last)",
      "\u001b[0;32m<ipython-input-20-08601c99be3b>\u001b[0m in \u001b[0;36m<module>\u001b[0;34m()\u001b[0m\n\u001b[1;32m      6\u001b[0m \u001b[0;34m\u001b[0m\u001b[0m\n\u001b[1;32m      7\u001b[0m \u001b[0mprint\u001b[0m\u001b[0;34m(\u001b[0m\u001b[0mstudent_tuples\u001b[0m\u001b[0;34m[\u001b[0m\u001b[0;36m0\u001b[0m\u001b[0;34m]\u001b[0m\u001b[0;34m[\u001b[0m\u001b[0;36m0\u001b[0m\u001b[0;34m]\u001b[0m\u001b[0;34m)\u001b[0m\u001b[0;34m\u001b[0m\u001b[0m\n\u001b[0;32m----> 8\u001b[0;31m \u001b[0mstudent_tuples\u001b[0m\u001b[0;34m[\u001b[0m\u001b[0;36m0\u001b[0m\u001b[0;34m]\u001b[0m\u001b[0;34m[\u001b[0m\u001b[0;36m0\u001b[0m\u001b[0;34m]\u001b[0m\u001b[0;34m=\u001b[0m\u001b[0;34m\"john s\"\u001b[0m\u001b[0;34m\u001b[0m\u001b[0m\n\u001b[0m",
      "\u001b[0;31mTypeError\u001b[0m: 'tuple' object does not support item assignment"
     ]
    }
   ],
   "source": [
    "student_tuples = [('john', 'A', 15), ('jane', 'B', 12), ('dave', 'B', 13)]\n",
    "print(student_tuples)\n",
    "print(sorted(student_tuples, key=lambda student: student[0]))   # sort by name\n",
    "print(sorted(student_tuples, key=lambda student: student[2]))   # sort by age\n",
    "print(student_tuples)\n",
    "\n",
    "print(student_tuples[0][0])\n",
    "student_tuples[0][0]=\"john s\""
   ]
  },
  {
   "cell_type": "code",
   "execution_count": 18,
   "metadata": {},
   "outputs": [
    {
     "name": "stdout",
     "output_type": "stream",
     "text": [
      "[['john', 'A', 15], ['jane', 'B', 12], ['dave', 'B', 13]]\n",
      "[['dave', 'B', 13], ['jane', 'B', 12], ['john', 'A', 15]]\n",
      "[['jane', 'B', 12], ['dave', 'B', 13], ['john', 'A', 15]]\n",
      "[['john s', 'A', 15], ['jane', 'B', 12], ['dave', 'B', 13]]\n"
     ]
    }
   ],
   "source": [
    "# The differences between tuples and lists are, \n",
    "# the tuples cannot be changed unlike lists and \n",
    "# tuples use parentheses, whereas lists use square brackets.\n",
    "\n",
    "student_list = [['john', 'A', 15], ['jane', 'B', 12], ['dave', 'B', 13]]\n",
    "print(student_list)\n",
    "print(sorted(student_list, key=lambda student: student[0]))   # sort by name\n",
    "print(sorted(student_list, key=lambda student: student[2]))   # sort by age\n",
    "\n",
    "student_list[0][0]=\"john s\"\n",
    "print(student_list)"
   ]
  },
  {
   "cell_type": "code",
   "execution_count": 27,
   "metadata": {},
   "outputs": [
    {
     "name": "stdout",
     "output_type": "stream",
     "text": [
      "4\n",
      "1\n"
     ]
    }
   ],
   "source": [
    "# methods - called using dot notation\n",
    "\n",
    "# boolean, int, float, string, lists are examples of objects\n",
    "# methods are functions that belong to objects, example - a str object has methods like capitallize(), replace()\n",
    "# a list has methods such as index(), count()\n",
    "a=['dad', 1.88, 'mom', 1.78, 'sis', 1.68, 'bro', 1.58]\n",
    "print(a.index(\"sis\")) # index of sis\n",
    "print(a.count(1.78)) # to get the number of times an element appears in a list"
   ]
  },
  {
   "cell_type": "code",
   "execution_count": 35,
   "metadata": {},
   "outputs": [
    {
     "name": "stdout",
     "output_type": "stream",
     "text": [
      "<class 'str'>\n",
      "Jane\n",
      "JANE\n",
      "janet\n",
      "1\n"
     ]
    }
   ],
   "source": [
    "sis=\"jane\"\n",
    "print(type(sis))\n",
    "print(sis.capitalize())\n",
    "print(sis.upper())\n",
    "print(sis.replace(\"e\",\"et\"))\n",
    "print(sis.index(\"a\")) # to get the index of the first element of a list that matches its input "
   ]
  },
  {
   "cell_type": "code",
   "execution_count": 39,
   "metadata": {},
   "outputs": [
    {
     "name": "stdout",
     "output_type": "stream",
     "text": [
      "['dad', 1.88, 'mom', 1.78, 'sis', 1.68, 'bro', 1.58]\n",
      "['dad', 1.88, 'mom', 1.78, 'sis', 1.68, 'bro', 1.58, 'me']\n",
      "['dad', 1.88, 'mom', 1.78, 'sis', 1.68, 'bro', 1.58, 'me', 1.88, 1.9]\n",
      "['dad', 1.88, 'mom', 1.78, 'sis', 1.68, 'bro', 1.58, 'me', 1.88]\n",
      "[1.88, 'me', 1.58, 'bro', 1.68, 'sis', 1.78, 'mom', 1.88, 'dad']\n"
     ]
    }
   ],
   "source": [
    "# some mothod calls change the objects they are called upon and some dont, so watch out!\n",
    "a=['dad', 1.88, 'mom', 1.78, 'sis', 1.68, 'bro', 1.58]\n",
    "print(a)\n",
    "a.append(\"me\") # adds an element to the list it is called on\n",
    "print(a)\n",
    "a.append(1.88)\n",
    "a.append(1.90)\n",
    "print(a)\n",
    "a.remove(1.90) # removes the first element of a list that matches the input\n",
    "print(a)\n",
    "a.reverse() # reverses the order of the elements in the list it is called on\n",
    "print(a)"
   ]
  },
  {
   "cell_type": "code",
   "execution_count": 57,
   "metadata": {},
   "outputs": [
    {
     "name": "stdout",
     "output_type": "stream",
     "text": [
      "a= [1 2 3]\n",
      "b= [4 5 6]\n",
      "c= [7 8 9]\n",
      "type of object a is: <class 'numpy.ndarray'>\n"
     ]
    }
   ],
   "source": [
    "# packages - these are directory of python scripts\n",
    "# each script = module\n",
    "# they specify functions, methods, types\n",
    "# example numpy for arrays, matplotlib for data visualization and scikit-learn for scientific computing\n",
    "\n",
    "# you can install a package using:\n",
    "# pip install numpy\n",
    "# pip3 install numpy\n",
    "\n",
    "# you can import a package using import\n",
    "import numpy as np # this will import the entire numpy package\n",
    "from numpy import array as arr # this will import only the array function from numpy\n",
    "\n",
    "a=np.array([1,2,3])\n",
    "b=numpy.array([4,5,6])\n",
    "c=arr([7,8,9])\n",
    "print(\"a=\",a)\n",
    "print(\"b=\",b)\n",
    "print(\"c=\",c)\n",
    "print(\"type of object a is:\",type(a))"
   ]
  },
  {
   "cell_type": "code",
   "execution_count": 54,
   "metadata": {},
   "outputs": [
    {
     "name": "stdout",
     "output_type": "stream",
     "text": [
      "radius 10\n",
      "circumference 62.83\n",
      "area 25.132741228718345\n"
     ]
    }
   ],
   "source": [
    "# example\n",
    "from math import pi\n",
    "radius = 10\n",
    "circumference = 2*pi*radius\n",
    "area = pi*(radius^2)\n",
    "print(\"radius\",radius)\n",
    "print(\"circumference\",round(circumference,2))\n",
    "print(\"area\",area)"
   ]
  },
  {
   "cell_type": "markdown",
   "metadata": {},
   "source": [
    "# Global variables\n",
    "A global variable can be used anywhere in the code.\n",
    "In the example below we define a global variable z"
   ]
  },
  {
   "cell_type": "code",
   "execution_count": 1,
   "metadata": {},
   "outputs": [
    {
     "name": "stdout",
     "output_type": "stream",
     "text": [
      "10\n",
      "10\n"
     ]
    }
   ],
   "source": [
    "z = 10\n",
    " \n",
    "def afunction():\n",
    "    global z\n",
    "    print(z)\n",
    " \n",
    "afunction()\n",
    "print(z)"
   ]
  },
  {
   "cell_type": "markdown",
   "metadata": {},
   "source": [
    "The global variable z can be used all throughout the program, inside functions or outside.\n",
    "A global variable can modified inside a function and change for the entire program:"
   ]
  },
  {
   "cell_type": "code",
   "execution_count": 2,
   "metadata": {},
   "outputs": [
    {
     "name": "stdout",
     "output_type": "stream",
     "text": [
      "9\n"
     ]
    }
   ],
   "source": [
    "z = 10\n",
    " \n",
    "def afunction():\n",
    "    global z\n",
    "    z = 9\n",
    " \n",
    "afunction()\n",
    "print(z)"
   ]
  },
  {
   "cell_type": "markdown",
   "metadata": {},
   "source": [
    "After calling afunction(), the global variable is changed for the entire program.\n",
    "\n",
    "### Exercise\n",
    "Local and global variables can be used together in the same program.\n",
    "Try to determine the output of this program:"
   ]
  },
  {
   "cell_type": "code",
   "execution_count": 5,
   "metadata": {},
   "outputs": [
    {
     "name": "stdout",
     "output_type": "stream",
     "text": [
      "12\n"
     ]
    }
   ],
   "source": [
    "z = 10\n",
    " \n",
    "def func1():\n",
    "    global z\n",
    "    z = 3\n",
    " \n",
    "def func2(x,y):\n",
    "    global z \n",
    "    return x+y+z\n",
    " \n",
    "func1()\n",
    "total = func2(4,5)\n",
    "print(total)"
   ]
  },
  {
   "cell_type": "code",
   "execution_count": null,
   "metadata": {},
   "outputs": [],
   "source": []
  }
 ],
 "metadata": {
  "kernelspec": {
   "display_name": "Python 3",
   "language": "python",
   "name": "python3"
  },
  "language_info": {
   "codemirror_mode": {
    "name": "ipython",
    "version": 3
   },
   "file_extension": ".py",
   "mimetype": "text/x-python",
   "name": "python",
   "nbconvert_exporter": "python",
   "pygments_lexer": "ipython3",
   "version": "3.6.4"
  }
 },
 "nbformat": 4,
 "nbformat_minor": 2
}

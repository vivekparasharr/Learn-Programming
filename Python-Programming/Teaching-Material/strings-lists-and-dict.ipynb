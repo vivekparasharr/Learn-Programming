{
 "cells": [
  {
   "cell_type": "markdown",
   "metadata": {},
   "source": [
    "# Strings\n",
    "A string is a series of characters, they are mostly used to display text.\n",
    "To define a string simply type text between quotes. Python accepts single, double and triple quotes.\n",
    "\n",
    "### String output/input\n",
    "To output text (string) to the screen:"
   ]
  },
  {
   "cell_type": "code",
   "execution_count": 2,
   "metadata": {},
   "outputs": [
    {
     "name": "stdout",
     "output_type": "stream",
     "text": [
      "hello world\n"
     ]
    }
   ],
   "source": [
    "s = \"hello world\"\n",
    "print(s)"
   ]
  },
  {
   "cell_type": "markdown",
   "metadata": {},
   "source": [
    "To get text from keyboard:"
   ]
  },
  {
   "cell_type": "code",
   "execution_count": 3,
   "metadata": {},
   "outputs": [
    {
     "name": "stdout",
     "output_type": "stream",
     "text": [
      "Enter name: Vivek\n",
      "Vivek\n"
     ]
    }
   ],
   "source": [
    "name = input(\"Enter name: \")\n",
    "print(name)"
   ]
  },
  {
   "cell_type": "markdown",
   "metadata": {},
   "source": [
    "If you use an old Python version (2.x), you need to use:"
   ]
  },
  {
   "cell_type": "code",
   "execution_count": null,
   "metadata": {},
   "outputs": [],
   "source": [
    "name = raw_input(\"Enter name: \")\n",
    "print(name)"
   ]
  },
  {
   "cell_type": "markdown",
   "metadata": {},
   "source": [
    "### String Comparison\n",
    "- To test if two strings are equal use the equality operator (==)\n",
    "- To test if two strings are not equal use the inequality operator (!=)"
   ]
  },
  {
   "cell_type": "code",
   "execution_count": 5,
   "metadata": {},
   "outputs": [
    {
     "name": "stdout",
     "output_type": "stream",
     "text": [
      "Guess computers name: Lenovo\n",
      "False\n"
     ]
    }
   ],
   "source": [
    "computer_name='Mac'\n",
    "name = input(\"Guess computers name: \")\n",
    "print(computer_name==name)"
   ]
  },
  {
   "cell_type": "markdown",
   "metadata": {},
   "source": [
    "### Characters in string\n",
    "The 0th index is used for the first character of a string"
   ]
  },
  {
   "cell_type": "code",
   "execution_count": 6,
   "metadata": {},
   "outputs": [
    {
     "name": "stdout",
     "output_type": "stream",
     "text": [
      "Hello Python\n",
      "H\n",
      "e\n"
     ]
    }
   ],
   "source": [
    "s = \"Hello Python\"\n",
    "print(s)      # prints whole string\n",
    "print(s[0])   # prints \"H\"\n",
    "print(s[1]) # prints \"e\""
   ]
  },
  {
   "cell_type": "markdown",
   "metadata": {},
   "source": [
    "### String Slicing\n",
    "`s[ startIndex : pastIndex ]`\n",
    "- startIndex is the start index of the string (0 or first character of string, by default)\n",
    "- pastIndex is one past the end of the slice (-1 or last character of string, by default)"
   ]
  },
  {
   "cell_type": "code",
   "execution_count": 7,
   "metadata": {},
   "outputs": [
    {
     "name": "stdout",
     "output_type": "stream",
     "text": [
      "He\n",
      "ll\n",
      "Python\n"
     ]
    }
   ],
   "source": [
    "s = \"Hello Python\"\n",
    "print(s[0:2]) # prints \"He\"\n",
    "print(s[2:4]) # prints \"ll\"\n",
    "print(s[6:])  # prints \"Python\""
   ]
  },
  {
   "cell_type": "markdown",
   "metadata": {},
   "source": [
    "# Lists\n",
    "- Lists is a sequence and a basic data structure   \n",
    "- A list may contain strings (text) and numbers\n",
    "- A list is similar to an array in other programming languages, but has additional functionality\n",
    "\n",
    "### [ ] brackets\n",
    "We define lists with brackets []. To access the data, these same brackets are used."
   ]
  },
  {
   "cell_type": "code",
   "execution_count": 24,
   "metadata": {},
   "outputs": [
    {
     "name": "stdout",
     "output_type": "stream",
     "text": [
      "['vivek', 'claudio', 'adrian', 'richard']\n",
      "vivek\n",
      "claudio\n",
      "0\n",
      "1\n"
     ]
    }
   ],
   "source": [
    "l = [ \"vivek\", \"claudio\", \"adrian\", \"richard\" ]\n",
    "print(l)     # prints all elements\n",
    "print(l[0])  # print first element\n",
    "print(l[1])  # prints second element\n",
    "print(l.index('vivek')) # Return the index in the list of the first item whose value is x\n",
    "print(l.count(\"vivek\")) # Return the number of times x appears in the list"
   ]
  },
  {
   "cell_type": "markdown",
   "metadata": {},
   "source": [
    "### Add/remove elements from a list"
   ]
  },
  {
   "cell_type": "code",
   "execution_count": 18,
   "metadata": {},
   "outputs": [
    {
     "name": "stdout",
     "output_type": "stream",
     "text": [
      "['vivek', 'claudio', 'adrian', 'richard', 'alejandro']\n",
      "['vivek', 'claudio', 'alvaro', 'adrian', 'richard', 'alejandro']\n",
      "['claudio', 'alvaro', 'richard', 'alejandro']\n",
      "['claudio', 'richard', 'alejandro']\n"
     ]
    }
   ],
   "source": [
    "l.append(\"alejandro\")   # add element. Equivalent to a[len(a):] = [x]\n",
    "print(l)                \n",
    "\n",
    "l.insert(2, \"alvaro\")   # Insert an item at a given position\n",
    "print(l)\n",
    "\n",
    "l.remove(\"adrian\")      # remove element\n",
    "l.remove(\"vivek\")       # remove element\n",
    "print(l)                \n",
    "\n",
    "l.pop(1)                # Remove the item at the given position in the list, and return it. \n",
    "print(l)                # If no index is specified, a.pop() removes and returns the last item in the list"
   ]
  },
  {
   "cell_type": "markdown",
   "metadata": {},
   "source": [
    "### Sort/reverse a list"
   ]
  },
  {
   "cell_type": "code",
   "execution_count": 15,
   "metadata": {},
   "outputs": [
    {
     "name": "stdout",
     "output_type": "stream",
     "text": [
      "['alejandro', 'claudio', 'richard']\n",
      "['richard', 'claudio', 'alejandro']\n"
     ]
    }
   ],
   "source": [
    "l.sort()    # sorts the list in alphabetical order\n",
    "print(l)     # prints all elements\n",
    "l.reverse() # reverse order.\n",
    "print(l)     # prints all elements"
   ]
  },
  {
   "cell_type": "markdown",
   "metadata": {},
   "source": [
    "### List comprehension\n",
    "- A list comprehension consists of brackets containing an expression followed by a for clause, then zero or more for or if clauses\n",
    "- The result will be a new list resulting from evaluating the expression in the context of the for and if clauses which follow it\n",
    "- For example, assume we want to create a list of squares"
   ]
  },
  {
   "cell_type": "code",
   "execution_count": 64,
   "metadata": {},
   "outputs": [
    {
     "name": "stdout",
     "output_type": "stream",
     "text": [
      "[0, 1, 4, 9, 16, 25, 36, 49, 64, 81]\n",
      "[0, 1, 4, 9, 16, 25, 36, 49, 64, 81]\n"
     ]
    }
   ],
   "source": [
    "# Traditional way:\n",
    "s = []\n",
    "for x in range(10):\n",
    "    s.append(x**2)\n",
    "print(s)\n",
    "\n",
    "# List comprehension way:\n",
    "s2 = [x**2 for x in range(10)]\n",
    "print(s2)"
   ]
  },
  {
   "cell_type": "markdown",
   "metadata": {},
   "source": [
    "#### Nested List Comprehensions\n",
    "- Lets see if we can use list comprehensions to transpose a matrix"
   ]
  },
  {
   "cell_type": "code",
   "execution_count": 68,
   "metadata": {},
   "outputs": [
    {
     "data": {
      "text/plain": [
       "[[1, 5, 9], [2, 6, 10], [3, 7, 11], [4, 8, 12]]"
      ]
     },
     "execution_count": 68,
     "metadata": {},
     "output_type": "execute_result"
    }
   ],
   "source": [
    "matrix = [\n",
    "    [1, 2, 3, 4],\n",
    "    [5, 6, 7, 8],\n",
    "    [9, 10, 11, 12],\n",
    "]\n",
    "\n",
    "# Traditional way:\n",
    "transposed = []\n",
    "for i in range(4):\n",
    "    transposed_row = []\n",
    "    for row in matrix:\n",
    "        transposed_row.append(row[i])\n",
    "    transposed.append(transposed_row)\n",
    "\n",
    "transposed"
   ]
  },
  {
   "cell_type": "code",
   "execution_count": 69,
   "metadata": {},
   "outputs": [
    {
     "data": {
      "text/plain": [
       "[[1, 5, 9], [2, 6, 10], [3, 7, 11], [4, 8, 12]]"
      ]
     },
     "execution_count": 69,
     "metadata": {},
     "output_type": "execute_result"
    }
   ],
   "source": [
    "[[row[i] for row in matrix] for i in range(4)]"
   ]
  },
  {
   "cell_type": "markdown",
   "metadata": {},
   "source": [
    "#  Dictionaries\n",
    "A dictionary can be thought of as an unordered set of key: value pairs\n",
    "\n",
    "### { } brackets\n",
    "- A pair of braces creates an empty dictionary: {}\n",
    "- Each element can maps to a certain value\n",
    "- An integer or string can be used for the index\n",
    "- Dictonaries do not have an order"
   ]
  },
  {
   "cell_type": "code",
   "execution_count": 70,
   "metadata": {},
   "outputs": [
    {
     "data": {
      "text/plain": [
       "{'bye': 'adios', 'hello': 'hola', 'no': 'no'}"
      ]
     },
     "execution_count": 70,
     "metadata": {},
     "output_type": "execute_result"
    }
   ],
   "source": [
    "d = {'hello': 'hola', 'bye': 'adios'}\n",
    "d['no'] = 'no'\n",
    "d"
   ]
  },
  {
   "cell_type": "code",
   "execution_count": 71,
   "metadata": {},
   "outputs": [
    {
     "data": {
      "text/plain": [
       "'adios'"
      ]
     },
     "execution_count": 71,
     "metadata": {},
     "output_type": "execute_result"
    }
   ],
   "source": [
    "d['bye']"
   ]
  },
  {
   "cell_type": "code",
   "execution_count": 72,
   "metadata": {},
   "outputs": [
    {
     "data": {
      "text/plain": [
       "{'bye': 'adios', 'hello': 'hola', 'yes': 'si'}"
      ]
     },
     "execution_count": 72,
     "metadata": {},
     "output_type": "execute_result"
    }
   ],
   "source": [
    "del d['no']\n",
    "d['yes'] = 'si'\n",
    "d"
   ]
  },
  {
   "cell_type": "code",
   "execution_count": 73,
   "metadata": {},
   "outputs": [
    {
     "data": {
      "text/plain": [
       "['hello', 'bye', 'yes']"
      ]
     },
     "execution_count": 73,
     "metadata": {},
     "output_type": "execute_result"
    }
   ],
   "source": [
    "list(d.keys())"
   ]
  },
  {
   "cell_type": "code",
   "execution_count": 74,
   "metadata": {},
   "outputs": [
    {
     "data": {
      "text/plain": [
       "['bye', 'hello', 'yes']"
      ]
     },
     "execution_count": 74,
     "metadata": {},
     "output_type": "execute_result"
    }
   ],
   "source": [
    "sorted(d.keys())"
   ]
  },
  {
   "cell_type": "code",
   "execution_count": 75,
   "metadata": {},
   "outputs": [
    {
     "data": {
      "text/plain": [
       "True"
      ]
     },
     "execution_count": 75,
     "metadata": {},
     "output_type": "execute_result"
    }
   ],
   "source": [
    "'hello' in d"
   ]
  },
  {
   "cell_type": "markdown",
   "metadata": {},
   "source": [
    "#### dict() constructor and Merging 2 dictionaries\n",
    "- builds dictionaries directly from sequences of key-value pairs"
   ]
  },
  {
   "cell_type": "code",
   "execution_count": 76,
   "metadata": {},
   "outputs": [
    {
     "data": {
      "text/plain": [
       "{'and': 'y', 'day': 'dia', 'night': 'noche'}"
      ]
     },
     "execution_count": 76,
     "metadata": {},
     "output_type": "execute_result"
    }
   ],
   "source": [
    "d2 = dict([('and', 'y'), ('day', 'dia'), ('night', 'noche')])\n",
    "d2"
   ]
  },
  {
   "cell_type": "code",
   "execution_count": 77,
   "metadata": {},
   "outputs": [
    {
     "data": {
      "text/plain": [
       "{'and': 'y',\n",
       " 'bye': 'adios',\n",
       " 'day': 'dia',\n",
       " 'hello': 'hola',\n",
       " 'night': 'noche',\n",
       " 'yes': 'si'}"
      ]
     },
     "execution_count": 77,
     "metadata": {},
     "output_type": "execute_result"
    }
   ],
   "source": [
    "d3 = {**d , **d2}\n",
    "d3"
   ]
  },
  {
   "cell_type": "code",
   "execution_count": null,
   "metadata": {},
   "outputs": [],
   "source": []
  },
  {
   "cell_type": "code",
   "execution_count": null,
   "metadata": {},
   "outputs": [],
   "source": []
  }
 ],
 "metadata": {
  "kernelspec": {
   "display_name": "Python 3",
   "language": "python",
   "name": "python3"
  },
  "language_info": {
   "codemirror_mode": {
    "name": "ipython",
    "version": 3
   },
   "file_extension": ".py",
   "mimetype": "text/x-python",
   "name": "python",
   "nbconvert_exporter": "python",
   "pygments_lexer": "ipython3",
   "version": "3.6.4"
  }
 },
 "nbformat": 4,
 "nbformat_minor": 2
}
